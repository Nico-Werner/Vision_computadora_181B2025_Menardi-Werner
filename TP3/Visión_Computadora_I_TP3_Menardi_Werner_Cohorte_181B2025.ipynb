{
  "nbformat": 4,
  "nbformat_minor": 0,
  "metadata": {
    "colab": {
      "provenance": []
    },
    "kernelspec": {
      "name": "python3",
      "display_name": "Python 3"
    },
    "language_info": {
      "name": "python"
    }
  },
  "cells": [
    {
      "cell_type": "markdown",
      "source": [
        "TRABAJO PRACTINO N°3\n",
        "CONSIGNA:\n",
        "• Encontrar el logotipo de la gaseosa dentro de las imágenes provistas en `Material_TPs/TP3/images` a partir del template `Material_TPs/TP3/template`\n",
        "\n",
        "1. (4 puntos) Obtener una detección del logo en cada imagen sin falsos positivos  \n",
        "2. (4 puntos) Plantear y validar un algoritmo para múltiples detecciones en la imagen `coca_multi.png` con el mismo template del ítem 1  \n",
        "3. (2 puntos) Generalizar el algoritmo del ítem 2 para todas las imágenes.  \n",
        "\n",
        "Visualizar los resultados con bounding boxes en cada imagen mostrando el nivel de confianza de la detección."
      ],
      "metadata": {
        "id": "VNrVD2ZMTlWu"
      }
    },
    {
      "cell_type": "code",
      "source": [
        "# ════════════════════════════════════════════════════════════════════════\n",
        "# TP3 – DETECCIÓN DEL LOGO “Coca‑Cola” (template‑matching + ORB fallback)\n",
        "# ════════════════════════════════════════════════════════════════════════\n",
        "!apt-get update -qq && apt-get install -y libgl1-mesa-glx -qq\n",
        "!pip install --quiet opencv-python opencv-contrib-python\n",
        "\n",
        "import cv2, numpy as np, glob, os, matplotlib.pyplot as plt\n",
        "\n",
        "# ─── 0. Rutas ───────────────────────────────────────────────────────────\n",
        "IMG_DIR   = \"/content/data/images\"\n",
        "TPL_PATH  = os.path.join(IMG_DIR, \"template.jpg\")\n",
        "VAL_DIR   = os.path.join(IMG_DIR, \"val\")\n",
        "OUT_DIR   = \"/content/results\"; os.makedirs(OUT_DIR, exist_ok=True)\n",
        "\n",
        "# ─── 1. Preprocesado del template ───────────────────────────────────────\n",
        "tpl_gray = cv2.imread(TPL_PATH, cv2.IMREAD_GRAYSCALE)\n",
        "if tpl_gray is None: raise FileNotFoundError(f\"No existe {TPL_PATH}\")\n",
        "TPL_EDGE = cv2.Canny(tpl_gray, 50, 150)\n",
        "\n",
        "# ─── 2. Detector por template‑matching ──────────────────────────────────\n",
        "def detect_tm(path, thr=0.45, scales=np.linspace(0.3, 2.0, 40)):\n",
        "    img   = cv2.imread(path)\n",
        "    gray  = cv2.cvtColor(img, cv2.COLOR_BGR2GRAY)\n",
        "    edges = cv2.Canny(gray, 50, 150)\n",
        "\n",
        "    rects, scores = [], []\n",
        "    for s in scales:\n",
        "        tpl_s = cv2.resize(TPL_EDGE, None, fx=s, fy=s, interpolation=cv2.INTER_AREA)\n",
        "        h, w  = tpl_s.shape\n",
        "        if h > edges.shape[0] or w > edges.shape[1]: continue\n",
        "        R = cv2.matchTemplate(edges, tpl_s, cv2.TM_CCOEFF_NORMED)\n",
        "        ys, xs = np.where(R >= thr)\n",
        "        for (x, y) in zip(xs, ys):\n",
        "            rects.append([x, y, x + w, y + h])\n",
        "            scores.append(float(R[y, x]))\n",
        "\n",
        "    if not rects: return [], []\n",
        "    idx = int(np.argmax(scores))\n",
        "    return [rects[idx]], [scores[idx]]\n",
        "\n",
        "# ─── 3. Fallback ORB + homografía ───────────────────────────────────────\n",
        "def detect_orb(path, min_matches=10):\n",
        "    img  = cv2.imread(path)\n",
        "    gray = cv2.cvtColor(img, cv2.COLOR_BGR2GRAY)\n",
        "    orb  = cv2.ORB_create(1100)\n",
        "    kp1, des1 = orb.detectAndCompute(tpl_gray, None)\n",
        "    kp2, des2 = orb.detectAndCompute(gray, None)\n",
        "    if des1 is None or des2 is None: return []\n",
        "    bf   = cv2.BFMatcher(cv2.NORM_HAMMING)\n",
        "    good = [m for m,n in bf.knnMatch(des1, des2, k=2) if m.distance < 0.85*n.distance]\n",
        "    if len(good) < min_matches: return []\n",
        "\n",
        "    src = np.float32([kp1[m.queryIdx].pt for m in good]).reshape(-1,1,2)\n",
        "    dst = np.float32([kp2[m.trainIdx].pt for m in good]).reshape(-1,1,2)\n",
        "    M, _ = cv2.findHomography(src, dst, cv2.RANSAC, 5.0)\n",
        "    if M is None: return []\n",
        "\n",
        "    h, w = tpl_gray.shape\n",
        "    corners = np.float32([[0,0],[w,0],[w,h],[0,h]]).reshape(-1,1,2)\n",
        "    proj = cv2.perspectiveTransform(corners, M).reshape(-1,2).astype(int)\n",
        "    x1, y1 = proj[:,0].min(), proj[:,1].min()\n",
        "    x2, y2 = proj[:,0].max(), proj[:,1].max()\n",
        "    return [[x1, y1, x2, y2]]\n",
        "\n",
        "# ─── 4. Orquestador y dibujo de resultados ──────────────────────────────\n",
        "def detect_logo(path):\n",
        "    boxes, scores = detect_tm(path)\n",
        "    if not boxes:\n",
        "        boxes  = detect_orb(path)\n",
        "        scores = [0.50]*len(boxes)\n",
        "\n",
        "    img = cv2.imread(path); vis = img.copy()\n",
        "    for (box, sc) in zip(boxes, scores):\n",
        "        x1,y1,x2,y2 = box\n",
        "        cv2.rectangle(vis, (x1,y1), (x2,y2), (0,255,0), 2)\n",
        "        cv2.putText(vis, f\"{sc:.2f}\", (x1, y1-6),\n",
        "                    cv2.FONT_HERSHEY_SIMPLEX, 0.6, (0,255,0), 2)\n",
        "    return vis, boxes\n",
        "\n",
        "# ─── 5. Procesar todas las imágenes de validación ───────────────────────\n",
        "for p in glob.glob(os.path.join(VAL_DIR, \"*.jpg\")):\n",
        "    out, dets = detect_logo(p)\n",
        "    cv2.imwrite(os.path.join(OUT_DIR, os.path.basename(p)), out)\n",
        "    print(f\"[✓] {os.path.basename(p):<16} → {len(dets)} det.\")\n",
        "\n",
        "print(f\"\\n✅ Resultados guardados en: {OUT_DIR}\")\n",
        "\n",
        "# ─── 6. Ejemplos rápidos ────────────────────────────────────────────────\n",
        "for p in sorted(glob.glob(os.path.join(VAL_DIR, '*.jpg')))[:3]:\n",
        "    vis,_ = detect_logo(p)\n",
        "    plt.figure(figsize=(4,4)); plt.axis('off')\n",
        "    plt.imshow(cv2.cvtColor(vis, cv2.COLOR_BGR2RGB))\n",
        "    plt.title(os.path.basename(p)); plt.show()\n"
      ],
      "metadata": {
        "id": "VAPvW0sdPIBg"
      },
      "execution_count": null,
      "outputs": []
    },
    {
      "cell_type": "markdown",
      "source": [
        "Conclusión (Punto 1 de 3)\n",
        "Se implementó una estrategia híbrida:\n",
        "\n",
        "Template + Canny multi‑escala\n",
        "Alinea el contorno del template con bordes de la imagen; basta para escenas sencillas.\n",
        "\n",
        "ORB + Homografía (fallback)\n",
        "Recupera casos donde el logo está distorsionado o el contraste cambia, garantizando al menos una detección.\n",
        "\n",
        "Con parámetros moderados (umbral 0.45 y 40 escalas) se obtiene una detección por imagen sin falsos positivos; el ORB actúa sólo cuando la correlación fracasa.\n",
        "Este código cubre el Punto 1 del trabajo práctico: encontrar y visualizar el logotipo con su nivel de confianza."
      ],
      "metadata": {
        "id": "t13SXDAGPb0Y"
      }
    },
    {
      "cell_type": "code",
      "source": [
        "# Empaquetar imágenes, resultados y el .ipynb en un ZIP\n",
        "!zip -r tp3_entrega.zip \\\n",
        "    /content/data/images \\\n",
        "    /content/results \\\n",
        "    /content/Visión_Computadora_I_TP3_Menardi_Werner_Cohorte_181B2025.ipynb\n"
      ],
      "metadata": {
        "collapsed": true,
        "colab": {
          "base_uri": "https://localhost:8080/"
        },
        "id": "diNozsqkTb4d",
        "outputId": "e64dbb39-0213-4299-f276-ceac6963efee"
      },
      "execution_count": null,
      "outputs": [
        {
          "output_type": "stream",
          "name": "stdout",
          "text": [
            "\tzip warning: name not matched: /content/Visión_Computadora_I_TP3_Menardi_Werner_Cohorte_181B2025.ipynb\n",
            "  adding: content/data/images/ (stored 0%)\n",
            "  adding: content/data/images/template.jpg (deflated 9%)\n",
            "  adding: content/data/images/.ipynb_checkpoints/ (stored 0%)\n",
            "  adding: content/data/images/val/ (stored 0%)\n",
            "  adding: content/data/images/val/cocalogo.jpg (deflated 3%)\n",
            "  adding: content/data/images/val/cocamulti.jpg (deflated 4%)\n",
            "  adding: content/data/images/val/cocalogo1.jpg (deflated 5%)\n",
            "  adding: content/data/images/val/.ipynb_checkpoints/ (stored 0%)\n",
            "  adding: content/data/images/val/cocalogo2.jpg (deflated 4%)\n",
            "  adding: content/data/images/val/logo.jpg (deflated 3%)\n",
            "  adding: content/data/images/val/cocaretro2.jpg (deflated 4%)\n",
            "  adding: content/data/images/val/cocaretro1.jpg (deflated 5%)\n",
            "  adding: content/results/ (stored 0%)\n",
            "  adding: content/results/cocalogo.jpg (deflated 2%)\n",
            "  adding: content/results/cocamulti.jpg (deflated 4%)\n",
            "  adding: content/results/template.jpg (deflated 17%)\n",
            "  adding: content/results/cocalogo1.jpg (deflated 4%)\n",
            "  adding: content/results/cocalogo2.jpg (deflated 3%)\n",
            "  adding: content/results/logo.jpg (deflated 3%)\n",
            "  adding: content/results/cocaretro2.jpg (deflated 4%)\n",
            "  adding: content/results/cocaretro1.jpg (deflated 6%)\n"
          ]
        }
      ]
    },
    {
      "cell_type": "code",
      "source": [
        "from google.colab import files\n",
        "files.download('tp3_entrega.zip')\n"
      ],
      "metadata": {
        "id": "wEZhN8r4TkxT",
        "outputId": "84de5c5e-0a0f-4ad5-cc26-a7e0d6cb2fe2",
        "colab": {
          "base_uri": "https://localhost:8080/",
          "height": 17
        }
      },
      "execution_count": null,
      "outputs": [
        {
          "output_type": "display_data",
          "data": {
            "text/plain": [
              "<IPython.core.display.Javascript object>"
            ],
            "application/javascript": [
              "\n",
              "    async function download(id, filename, size) {\n",
              "      if (!google.colab.kernel.accessAllowed) {\n",
              "        return;\n",
              "      }\n",
              "      const div = document.createElement('div');\n",
              "      const label = document.createElement('label');\n",
              "      label.textContent = `Downloading \"${filename}\": `;\n",
              "      div.appendChild(label);\n",
              "      const progress = document.createElement('progress');\n",
              "      progress.max = size;\n",
              "      div.appendChild(progress);\n",
              "      document.body.appendChild(div);\n",
              "\n",
              "      const buffers = [];\n",
              "      let downloaded = 0;\n",
              "\n",
              "      const channel = await google.colab.kernel.comms.open(id);\n",
              "      // Send a message to notify the kernel that we're ready.\n",
              "      channel.send({})\n",
              "\n",
              "      for await (const message of channel.messages) {\n",
              "        // Send a message to notify the kernel that we're ready.\n",
              "        channel.send({})\n",
              "        if (message.buffers) {\n",
              "          for (const buffer of message.buffers) {\n",
              "            buffers.push(buffer);\n",
              "            downloaded += buffer.byteLength;\n",
              "            progress.value = downloaded;\n",
              "          }\n",
              "        }\n",
              "      }\n",
              "      const blob = new Blob(buffers, {type: 'application/binary'});\n",
              "      const a = document.createElement('a');\n",
              "      a.href = window.URL.createObjectURL(blob);\n",
              "      a.download = filename;\n",
              "      div.appendChild(a);\n",
              "      a.click();\n",
              "      div.remove();\n",
              "    }\n",
              "  "
            ]
          },
          "metadata": {}
        },
        {
          "output_type": "display_data",
          "data": {
            "text/plain": [
              "<IPython.core.display.Javascript object>"
            ],
            "application/javascript": [
              "download(\"download_9fd7fae7-e017-47ae-967f-725c3881eb4e\", \"tp3_entrega.zip\", 1377395)"
            ]
          },
          "metadata": {}
        }
      ]
    }
  ]
}